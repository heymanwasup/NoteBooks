{
 "cells": [
  {
   "cell_type": "markdown",
   "metadata": {},
   "source": [
    "# Software blinding test for Muon g-2 experiment"
   ]
  },
  {
   "cell_type": "markdown",
   "metadata": {},
   "source": [
    "## 1. Import some important libraries here"
   ]
  },
  {
   "cell_type": "code",
   "execution_count": 1,
   "metadata": {},
   "outputs": [
    {
     "name": "stdout",
     "output_type": "stream",
     "text": [
      "Welcome to JupyROOT 6.24/00\n"
     ]
    }
   ],
   "source": [
    "import math\n",
    "from Blinders import Blinders\n",
    "from Blinders import FitType\n",
    "import ROOT as r\n",
    "\n",
    "#r.gROOT.Macro( '../rootlogon.C' ) if you have a rootlogon.C\n",
    "r.gStyle.SetOptFit(1111)\n",
    "c = r.TCanvas('c1','c1',1200,600)"
   ]
  },
  {
   "cell_type": "code",
   "execution_count": null,
   "metadata": {},
   "outputs": [],
   "source": [
    "## 2. Get the g-2 blinder here"
   ]
  },
  {
   "cell_type": "code",
   "execution_count": 2,
   "metadata": {},
   "outputs": [
    {
     "name": "stdout",
     "output_type": "stream",
     "text": [
      " + ++++++++++++++++++++++++++++++++++++++++++++++++++++++++++++++++++++ +\n",
      " +                                                                      +\n",
      " +           You have chose to blind your fitting according to          +\n",
      " +                omega_ref * (1 + (R +/- deltaR) *10^{-6})             +\n",
      " +                                                                      +\n",
      " + ++++++++++++++++++++++++++++++++++++++++++++++++++++++++++++++++++++ +\n"
     ]
    }
   ],
   "source": [
    "# unblinded fit, only do this before going to Elba, Italy 2018\n",
    "#myBlinder = Blinders(FitType.Omega_a) # or Blinder(FitType.Omega_p)\n",
    "\n",
    "# blinded instance\n",
    "getBlinded = Blinders(FitType.Omega_a, 'Kim is having fun getting his omega_a blinded!')"
   ]
  },
  {
   "cell_type": "markdown",
   "metadata": {},
   "source": [
    "## 3. Create your own blinded wiggle function"
   ]
  },
  {
   "cell_type": "code",
   "execution_count": 3,
   "metadata": {},
   "outputs": [],
   "source": [
    "def blinded_wiggle(x, p):\n",
    "    norm  = p[0]\n",
    "    life  = p[1]\n",
    "    asym  = p[2]\n",
    "    R     = p[3]\n",
    "    phi   = p[4]\n",
    "    \n",
    "    time  = x[0]\n",
    "    omega = getBlinded.paramToFreq(R)\n",
    "#    omega = myBlinder.paramToFreq(R) unblind version\n",
    "    \n",
    "    return norm * math.exp(-time/life) * (1 - asym*math.cos(omega*time + phi))"
   ]
  },
  {
   "cell_type": "markdown",
   "metadata": {},
   "source": [
    "## 4. Read some real data here"
   ]
  },
  {
   "cell_type": "code",
   "execution_count": 4,
   "metadata": {},
   "outputs": [
    {
     "data": {
      "text/plain": [
       "1"
      ]
     },
     "execution_count": 4,
     "metadata": {},
     "output_type": "execute_result"
    }
   ],
   "source": [
    "cluster_tree = r.TChain('clusterTree/clusters') # using the output of gm2calo::ClusterTree analyzer\n",
    "cluster_tree.Add('gm2offline_example.root')"
   ]
  },
  {
   "cell_type": "markdown",
   "metadata": {},
   "source": [
    "## 5. Make a wiggle plot"
   ]
  },
  {
   "cell_type": "code",
   "execution_count": 5,
   "metadata": {},
   "outputs": [],
   "source": [
    "cluster_tree.Draw('time*1.25/1000>>wiggle(2000,0,300)','energy>1800 && energy < 10000','goff')\n",
    "wiggle = r.gDirectory.Get('wiggle')"
   ]
  },
  {
   "cell_type": "markdown",
   "metadata": {},
   "source": [
    "## 6. Set some initial parameters and name them"
   ]
  },
  {
   "cell_type": "code",
   "execution_count": 6,
   "metadata": {},
   "outputs": [
    {
     "name": "stderr",
     "output_type": "stream",
     "text": [
      "In file included from input_line_88:1:\n",
      "In file included from /Applications/root_v6.24.00/include/CPyCppyy/API.h:30:\n",
      "In file included from /usr/local/Cellar/python@2/2.7.16/Frameworks/Python.framework/Versions/2.7/include/python2.7/Python.h:88:\n",
      "\u001b[1m/usr/local/Cellar/python@2/2.7.16/Frameworks/Python.framework/Versions/2.7/include/python2.7/unicodeobject.h:534:5: \u001b[0m\u001b[0;1;35mwarning: \u001b[0m\u001b[1m'register' storage class specifier is deprecated and incompatible with C++17 [-Wdeprecated-register]\u001b[0m\n",
      "    register PyObject *obj,     /* Object */\n",
      "\u001b[0;1;32m    ^~~~~~~~~\n",
      "\u001b[0m\u001b[1m/usr/local/Cellar/python@2/2.7.16/Frameworks/Python.framework/Versions/2.7/include/python2.7/unicodeobject.h:553:5: \u001b[0m\u001b[0;1;35mwarning: \u001b[0m\u001b[1m'register' storage class specifier is deprecated and incompatible with C++17 [-Wdeprecated-register]\u001b[0m\n",
      "    register PyObject *obj      /* Object */\n",
      "\u001b[0;1;32m    ^~~~~~~~~\n",
      "\u001b[0m\u001b[1m/usr/local/Cellar/python@2/2.7.16/Frameworks/Python.framework/Versions/2.7/include/python2.7/unicodeobject.h:575:5: \u001b[0m\u001b[0;1;35mwarning: \u001b[0m\u001b[1m'register' storage class specifier is deprecated and incompatible with C++17 [-Wdeprecated-register]\u001b[0m\n",
      "    register const wchar_t *w,  /* wchar_t buffer */\n",
      "\u001b[0;1;32m    ^~~~~~~~~\n",
      "\u001b[0m\u001b[1m/usr/local/Cellar/python@2/2.7.16/Frameworks/Python.framework/Versions/2.7/include/python2.7/unicodeobject.h:593:5: \u001b[0m\u001b[0;1;35mwarning: \u001b[0m\u001b[1m'register' storage class specifier is deprecated and incompatible with C++17 [-Wdeprecated-register]\u001b[0m\n",
      "    register wchar_t *w,        /* wchar_t buffer */\n",
      "\u001b[0;1;32m    ^~~~~~~~~\n",
      "\u001b[0mIn file included from input_line_88:1:\n",
      "In file included from /Applications/root_v6.24.00/include/CPyCppyy/API.h:30:\n",
      "In file included from /usr/local/Cellar/python@2/2.7.16/Frameworks/Python.framework/Versions/2.7/include/python2.7/Python.h:97:\n",
      "\u001b[1m/usr/local/Cellar/python@2/2.7.16/Frameworks/Python.framework/Versions/2.7/include/python2.7/stringobject.h:173:5: \u001b[0m\u001b[0;1;35mwarning: \u001b[0m\u001b[1m'register' storage class specifier is deprecated and incompatible with C++17 [-Wdeprecated-register]\u001b[0m\n",
      "    register PyObject *obj,     /* string or Unicode object */\n",
      "\u001b[0;1;32m    ^~~~~~~~~\n",
      "\u001b[0m\u001b[1m/usr/local/Cellar/python@2/2.7.16/Frameworks/Python.framework/Versions/2.7/include/python2.7/stringobject.h:174:5: \u001b[0m\u001b[0;1;35mwarning: \u001b[0m\u001b[1m'register' storage class specifier is deprecated and incompatible with C++17 [-Wdeprecated-register]\u001b[0m\n",
      "    register char **s,          /* pointer to buffer variable */\n",
      "\u001b[0;1;32m    ^~~~~~~~~\n",
      "\u001b[0m\u001b[1m/usr/local/Cellar/python@2/2.7.16/Frameworks/Python.framework/Versions/2.7/include/python2.7/stringobject.h:175:5: \u001b[0m\u001b[0;1;35mwarning: \u001b[0m\u001b[1m'register' storage class specifier is deprecated and incompatible with C++17 [-Wdeprecated-register]\u001b[0m\n",
      "    register Py_ssize_t *len    /* pointer to length variable or NULL\n",
      "\u001b[0;1;32m    ^~~~~~~~~\n",
      "\u001b[0m"
     ]
    }
   ],
   "source": [
    "func = r.TF1(\"func\", blinded_wiggle, 30,280,5)\n",
    "func.SetParNames('N','#tau','A','R','#phi')\n",
    "func.SetParameters(1500,64.4,0.4,0,0)\n",
    "func.SetLineColor(2)\n",
    "func.SetNpx(1000)"
   ]
  },
  {
   "cell_type": "markdown",
   "metadata": {},
   "source": [
    "## 7. Here comes our blinded fit!"
   ]
  },
  {
   "cell_type": "code",
   "execution_count": 7,
   "metadata": {},
   "outputs": [
    {
     "name": "stdout",
     "output_type": "stream",
     "text": [
      " FCN=1522.67 FROM MINOS     STATUS=SUCCESSFUL     36 CALLS         683 TOTAL\n",
      "                     EDM=2.81521e-07    STRATEGY= 1      ERROR MATRIX ACCURATE \n",
      "  EXT PARAMETER                                   STEP         FIRST   \n",
      "  NO.   NAME      VALUE            ERROR          SIZE      DERIVATIVE \n",
      "   1  N            4.77169e+01   9.26595e-01  -6.63029e-03   5.88881e-05\n",
      "   2  #tau         6.15943e+01   7.56313e-01   2.24666e-03   2.50752e-05\n",
      "   3  A            4.11840e-01   1.22284e-02  -1.74446e-04   2.80763e-03\n",
      "   4  R           -1.42957e+02   4.83803e+02   2.81540e-01   6.73906e-07\n",
      "   5  #phi        -1.12800e+00   6.68645e-02   6.68645e-02   1.16164e-02\n"
     ]
    },
    {
     "data": {
      "image/png": "[encoded data removed]",
      "text/plain": [
       "<IPython.core.display.Image object>"
      ]
     },
     "metadata": {},
     "output_type": "display_data"
    }
   ],
   "source": [
    "wiggle.Draw()\n",
    "wiggle.Fit('func','REM')\n",
    "c.Draw()\n",
    "c.SetLogy()"
   ]
  },
  {
   "cell_type": "code",
   "execution_count": null,
   "metadata": {},
   "outputs": [],
   "source": []
  },
  {
   "cell_type": "code",
   "execution_count": null,
   "metadata": {},
   "outputs": [],
   "source": []
  }
 ],
 "metadata": {
  "hide_input": false,
  "kernelspec": {
   "display_name": "Python 2",
   "language": "python",
   "name": "python2"
  },
  "language_info": {
   "codemirror_mode": {
    "name": "ipython",
    "version": 2
   },
   "file_extension": ".py",
   "mimetype": "text/x-python",
   "name": "python",
   "nbconvert_exporter": "python",
   "pygments_lexer": "ipython2",
   "version": "2.7.16"
  }
 },
 "nbformat": 4,
 "nbformat_minor": 2
}
