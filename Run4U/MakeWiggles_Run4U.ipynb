{
 "cells": [
  {
   "cell_type": "code",
   "execution_count": 2,
   "metadata": {},
   "outputs": [
    {
     "name": "stdout",
     "output_type": "stream",
     "text": [
      "Welcome to JupyROOT 6.24/06\n"
     ]
    }
   ],
   "source": [
    "import ROOT as R"
   ]
  },
  {
   "cell_type": "code",
   "execution_count": 11,
   "metadata": {},
   "outputs": [],
   "source": [
    "f_emp = R.TFile('/Users/cheng/WorkRun4/data/nominal_fit/Run4U_empirical_nominal.root')\n",
    "output_dir = '/Users/cheng/workspace/Data/Run4U/nominal_fit'\n",
    "\n",
    "raw = f_emp.Get('topDir/Iter0/RawHists/RawHist/rawTimesAndEnergies').Clone()\n",
    "pu_d = f_emp.Get('topDir/Iter0/EmpiricalPileupHists/Added/addedPileupTimesAndEnergies_1stOrder').Clone()\n",
    "pu_t = f_emp.Get('topDir/Iter0/EmpiricalPileupHists/Added/addedPileupTimesAndEnergies_2ndOrder').Clone()\n",
    "\n",
    "corr_all = raw.Clone()\n",
    "corr_all.Add(pu_d,-1)\n",
    "corr_all.Add(pu_t,-1)\n",
    "\n",
    "hists_calos = []\n",
    "\n",
    "for n in range(1,25):\n",
    "    raw = f_emp.Get('topDir/Iter0/RawHists/caloRawHists/caloRawTimesAndEnergies_Calo%s'%(n)).Clone()\n",
    "    pu_d = f_emp.Get('topDir/Iter0/EmpiricalPileupHists/Calos/Calo%s/caloPileupTimesAndEnergies_1stOrder'%(n)).Clone()\n",
    "    pu_t = f_emp.Get('topDir/Iter0/EmpiricalPileupHists/Calos/Calo%s/caloPileupTimesAndEnergies_2ndOrder'%(n)).Clone()\n",
    "    corr = raw.Clone()\n",
    "    corr.Add(pu_d,-1)\n",
    "    corr.Add(pu_t,-1)\n",
    "    hists_calos.append(corr)"
   ]
  },
  {
   "cell_type": "code",
   "execution_count": 13,
   "metadata": {},
   "outputs": [
    {
     "name": "stdout",
     "output_type": "stream",
     "text": [
      "50.0\n",
      "35\n"
     ]
    }
   ],
   "source": [
    "# wiggles for T-method threshold scan\n",
    "print (corr_all.GetYaxis().GetBinWidth(1))\n",
    "print (corr_all.GetYaxis().FindBin(1700))\n",
    "\n",
    "ebin_end = corr_all.GetYaxis().FindBin(3100)-1\n",
    "wiggles = []\n",
    "for n in range(1200,2200,50):\n",
    "    ebin_start = corr_all.GetYaxis().FindBin(n)\n",
    "    wiggle = corr_all.ProjectionX('wiggle_thres%s'%(n),ebin_start,ebin_end)\n",
    "    wiggles.append(wiggle)\n",
    "\n",
    "file_threshold_scan = R.TFile('%s/wiggle_thresholds.root'%(output_dir),'recreate')\n",
    "for wiggle in wiggles:\n",
    "    wiggle.Write()\n",
    "file_threshold_scan.Write()\n",
    "file_threshold_scan.Close()"
   ]
  },
  {
   "cell_type": "code",
   "execution_count": 16,
   "metadata": {},
   "outputs": [],
   "source": [
    "# wiggles for Energy Slices fitting\n",
    "\n",
    "\n",
    "wiggles = []\n",
    "for n in range(1000,3100,100):\n",
    "    ebin_start = corr_all.GetYaxis().FindBin(n)\n",
    "    ebin_end   = ebin_start + 1\n",
    "    # print (ebin_start,ebin_end)\n",
    "\n",
    "    wiggle = corr_all.ProjectionX('wiggle_E%s_%s'%(n,n+100),ebin_start,ebin_end)\n",
    "    wiggles.append(wiggle)\n",
    "\n",
    "file_slices_scan = R.TFile('%s/wiggle_ESlices.root'%(output_dir),'recreate')\n",
    "for wiggle in wiggles:\n",
    "    wiggle.Write()\n",
    "file_slices_scan.Write()\n",
    "file_slices_scan.Close()"
   ]
  },
  {
   "cell_type": "code",
   "execution_count": 53,
   "metadata": {},
   "outputs": [
    {
     "data": {
      "image/png": "[encoded data removed]",
      "text/plain": [
       "<IPython.core.display.Image object>"
      ]
     },
     "metadata": {},
     "output_type": "display_data"
    }
   ],
   "source": [
    "# A-method wiggle for energy threshold scan\n",
    "f_EScan = R.TFile('/Users/cheng/workspace/TestCMake_fitter/run/slices_scan_10pars.root')\n",
    "\n",
    "ays = []\n",
    "graph = R.TGraphErrors()\n",
    "for n in range(1000,3100,100):\n",
    "    func = f_EScan.Get('func_10paras_cbo_lost_E%s_%s'%(n,n+100))\n",
    "    \n",
    "    a_v = func.GetParameter(2)    \n",
    "    a_e = func.GetParError(2)\n",
    "    ays.append(a_v)\n",
    "    N = graph.GetN()\n",
    "    graph.SetPoint(N,n+50,a_v)\n",
    "    graph.SetPointError(N,0,a_e)\n",
    "    \n",
    "\n",
    "c = R.TCanvas()\n",
    "\n",
    "graph.SetMarkerSize(0.9)\n",
    "graph.SetLineStyle(1)\n",
    "graph.SetLineWidth(1)\n",
    "graph.SetMarkerStyle(8)\n",
    "graph.SetTitle('Energy slcies scan;E [MeV];Asysmetry')\n",
    "graph.Draw('AP')\n",
    "\n",
    "c.Draw()"
   ]
  },
  {
   "cell_type": "code",
   "execution_count": 55,
   "metadata": {},
   "outputs": [],
   "source": [
    "corr_all_A = corr_all.Clone()\n",
    "Nx = corr_all_A.GetXaxis().GetNbins()\n",
    "Ny = corr_all_A.GetYaxis().GetNbins()\n",
    "for nx in range(Nx):\n",
    "    for ny in range(Ny):\n",
    "        v = corr_all_A.GetBinContent(nx+1,ny+1)\n",
    "        e = corr_all_A.GetBinError(nx+1,ny+1)\n",
    "        energy = corr_all_A.GetYaxis().GetBinCenter(ny+1)\n",
    "        if energy<1000:\n",
    "            v_new = 0.\n",
    "            v_\n",
    "\n",
    "\n"
   ]
  },
  {
   "cell_type": "code",
   "execution_count": null,
   "metadata": {},
   "outputs": [],
   "source": []
  },
  {
   "cell_type": "code",
   "execution_count": null,
   "metadata": {},
   "outputs": [],
   "source": []
  },
  {
   "cell_type": "code",
   "execution_count": null,
   "metadata": {},
   "outputs": [],
   "source": []
  }
 ],
 "metadata": {
  "kernelspec": {
   "display_name": "Python 3.9.10 64-bit",
   "language": "python",
   "name": "python3"
  },
  "language_info": {
   "codemirror_mode": {
    "name": "ipython",
    "version": 3
   },
   "file_extension": ".py",
   "mimetype": "text/x-python",
   "name": "python",
   "nbconvert_exporter": "python",
   "pygments_lexer": "ipython3",
   "version": "3.9.10"
  },
  "orig_nbformat": 4,
  "vscode": {
   "interpreter": {
    "hash": "aee8b7b246df8f9039afb4144a1f6fd8d2ca17a180786b69acc140d282b71a49"
   }
  }
 },
 "nbformat": 4,
 "nbformat_minor": 2
}
